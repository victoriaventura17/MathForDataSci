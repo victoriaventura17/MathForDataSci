{
  "nbformat": 4,
  "nbformat_minor": 0,
  "metadata": {
    "colab": {
      "provenance": [],
      "include_colab_link": true
    },
    "kernelspec": {
      "name": "python3",
      "display_name": "Python 3"
    },
    "language_info": {
      "name": "python"
    },
    "accelerator": "GPU",
    "gpuClass": "standard"
  },
  "cells": [
    {
      "cell_type": "markdown",
      "metadata": {
        "id": "view-in-github",
        "colab_type": "text"
      },
      "source": [
        "<a href=\"https://colab.research.google.com/github/victoriaventura17/MathForDataSci/blob/main/Pool_Alexnet_2023.ipynb\" target=\"_parent\"><img src=\"https://colab.research.google.com/assets/colab-badge.svg\" alt=\"Open In Colab\"/></a>"
      ]
    },
    {
      "cell_type": "code",
      "execution_count": null,
      "metadata": {
        "id": "LUaVnys1Qyuj"
      },
      "outputs": [],
      "source": [
        "import torch\n",
        "import torch.nn as nn\n",
        "import torch.optim as optim\n",
        "from torchvision import datasets, models, transforms\n",
        "from torch.utils.data import DataLoader\n",
        "from google.colab import drive\n",
        "from torchsummary import summary"
      ]
    },
    {
      "cell_type": "code",
      "source": [
        "# 1. Mount Google Drive\n",
        "drive.mount('/content/gdrive')\n",
        "\n",
        "# 2. Load labeled images from folders\n",
        "# data_dir = '/content/gdrive/MyDrive/Data1/antsbeesdataset'\n",
        "data_dir = '/content/gdrive/MyDrive/Data2023/pool'"
      ],
      "metadata": {
        "colab": {
          "base_uri": "https://localhost:8080/"
        },
        "outputId": "6b878331-d1a1-43d1-e3bf-69fa538eac87",
        "id": "bZ7O0ihLQyuk"
      },
      "execution_count": null,
      "outputs": [
        {
          "output_type": "stream",
          "name": "stdout",
          "text": [
            "Drive already mounted at /content/gdrive; to attempt to forcibly remount, call drive.mount(\"/content/gdrive\", force_remount=True).\n"
          ]
        }
      ]
    },
    {
      "cell_type": "code",
      "source": [
        "# 3. Pre-process the data and create data loaders\n",
        "data_transforms = {\n",
        "    'train': transforms.Compose([\n",
        "        transforms.RandomResizedCrop(224),\n",
        "        transforms.RandomHorizontalFlip(),\n",
        "        transforms.ToTensor(),\n",
        "        transforms.Normalize([0.485, 0.456, 0.406], [0.229, 0.224, 0.225])\n",
        "    ]),\n",
        "    'valid': transforms.Compose([\n",
        "        transforms.Resize(256),\n",
        "        transforms.CenterCrop(224),\n",
        "        transforms.ToTensor(),\n",
        "        transforms.Normalize([0.485, 0.456, 0.406], [0.229, 0.224, 0.225])\n",
        "    ]),\n",
        "}"
      ],
      "metadata": {
        "id": "viMy5KEnQyul"
      },
      "execution_count": null,
      "outputs": []
    },
    {
      "cell_type": "code",
      "source": [
        "image_datasets = {x: datasets.ImageFolder(data_dir + '/' + x, data_transforms[x]) for x in ['train', 'valid']}\n",
        "dataloaders = {x: DataLoader(image_datasets[x], batch_size=32, shuffle=True, num_workers=4) for x in ['train', 'valid']}\n",
        "dataset_sizes = {x: len(image_datasets[x]) for x in ['train', 'valid']}\n",
        "class_names = image_datasets['train'].classes\n",
        "device = torch.device(\"cuda:0\" if torch.cuda.is_available() else \"cpu\")"
      ],
      "metadata": {
        "id": "L5uNetpjQyum"
      },
      "execution_count": null,
      "outputs": []
    },
    {
      "cell_type": "code",
      "source": [
        "# 4. Set up the AlexNet architecture\n",
        "alexnet = models.alexnet(pretrained=True)\n",
        "num_ftrs = alexnet.classifier[6].in_features\n",
        "alexnet.classifier[6] = nn.Linear(num_ftrs, len(class_names)) # Change last layer\n",
        "alexnet = alexnet.to(device) # Put on GPU"
      ],
      "metadata": {
        "id": "4ygsNg7ZQyum",
        "colab": {
          "base_uri": "https://localhost:8080/"
        },
        "outputId": "0619a648-0052-41ed-f760-3b34ccf21242"
      },
      "execution_count": null,
      "outputs": [
        {
          "output_type": "stream",
          "name": "stderr",
          "text": [
            "Downloading: \"https://download.pytorch.org/models/alexnet-owt-7be5be79.pth\" to /root/.cache/torch/hub/checkpoints/alexnet-owt-7be5be79.pth\n",
            "100%|██████████| 233M/233M [00:02<00:00, 82.0MB/s]\n"
          ]
        }
      ]
    },
    {
      "cell_type": "code",
      "source": [
        "alexnet"
      ],
      "metadata": {
        "colab": {
          "base_uri": "https://localhost:8080/"
        },
        "outputId": "f4c8e86f-3182-49bb-bb72-4afbce7cbf26",
        "id": "lRtUcENjQyun"
      },
      "execution_count": null,
      "outputs": [
        {
          "output_type": "execute_result",
          "data": {
            "text/plain": [
              "AlexNet(\n",
              "  (features): Sequential(\n",
              "    (0): Conv2d(3, 64, kernel_size=(11, 11), stride=(4, 4), padding=(2, 2))\n",
              "    (1): ReLU(inplace=True)\n",
              "    (2): MaxPool2d(kernel_size=3, stride=2, padding=0, dilation=1, ceil_mode=False)\n",
              "    (3): Conv2d(64, 192, kernel_size=(5, 5), stride=(1, 1), padding=(2, 2))\n",
              "    (4): ReLU(inplace=True)\n",
              "    (5): MaxPool2d(kernel_size=3, stride=2, padding=0, dilation=1, ceil_mode=False)\n",
              "    (6): Conv2d(192, 384, kernel_size=(3, 3), stride=(1, 1), padding=(1, 1))\n",
              "    (7): ReLU(inplace=True)\n",
              "    (8): Conv2d(384, 256, kernel_size=(3, 3), stride=(1, 1), padding=(1, 1))\n",
              "    (9): ReLU(inplace=True)\n",
              "    (10): Conv2d(256, 256, kernel_size=(3, 3), stride=(1, 1), padding=(1, 1))\n",
              "    (11): ReLU(inplace=True)\n",
              "    (12): MaxPool2d(kernel_size=3, stride=2, padding=0, dilation=1, ceil_mode=False)\n",
              "  )\n",
              "  (avgpool): AdaptiveAvgPool2d(output_size=(6, 6))\n",
              "  (classifier): Sequential(\n",
              "    (0): Dropout(p=0.5, inplace=False)\n",
              "    (1): Linear(in_features=9216, out_features=4096, bias=True)\n",
              "    (2): ReLU(inplace=True)\n",
              "    (3): Dropout(p=0.5, inplace=False)\n",
              "    (4): Linear(in_features=4096, out_features=4096, bias=True)\n",
              "    (5): ReLU(inplace=True)\n",
              "    (6): Linear(in_features=4096, out_features=2, bias=True)\n",
              "  )\n",
              ")"
            ]
          },
          "metadata": {},
          "execution_count": 11
        }
      ]
    },
    {
      "cell_type": "code",
      "source": [
        "summary(alexnet, (3, 224, 224))"
      ],
      "metadata": {
        "colab": {
          "base_uri": "https://localhost:8080/"
        },
        "outputId": "edf4cecd-3b87-4a71-8d58-7cf651845cc6",
        "id": "q5FX_4lxQyuo"
      },
      "execution_count": null,
      "outputs": [
        {
          "output_type": "stream",
          "name": "stdout",
          "text": [
            "----------------------------------------------------------------\n",
            "        Layer (type)               Output Shape         Param #\n",
            "================================================================\n",
            "            Conv2d-1           [-1, 64, 55, 55]          23,296\n",
            "              ReLU-2           [-1, 64, 55, 55]               0\n",
            "         MaxPool2d-3           [-1, 64, 27, 27]               0\n",
            "            Conv2d-4          [-1, 192, 27, 27]         307,392\n",
            "              ReLU-5          [-1, 192, 27, 27]               0\n",
            "         MaxPool2d-6          [-1, 192, 13, 13]               0\n",
            "            Conv2d-7          [-1, 384, 13, 13]         663,936\n",
            "              ReLU-8          [-1, 384, 13, 13]               0\n",
            "            Conv2d-9          [-1, 256, 13, 13]         884,992\n",
            "             ReLU-10          [-1, 256, 13, 13]               0\n",
            "           Conv2d-11          [-1, 256, 13, 13]         590,080\n",
            "             ReLU-12          [-1, 256, 13, 13]               0\n",
            "        MaxPool2d-13            [-1, 256, 6, 6]               0\n",
            "AdaptiveAvgPool2d-14            [-1, 256, 6, 6]               0\n",
            "          Dropout-15                 [-1, 9216]               0\n",
            "           Linear-16                 [-1, 4096]      37,752,832\n",
            "             ReLU-17                 [-1, 4096]               0\n",
            "          Dropout-18                 [-1, 4096]               0\n",
            "           Linear-19                 [-1, 4096]      16,781,312\n",
            "             ReLU-20                 [-1, 4096]               0\n",
            "           Linear-21                    [-1, 2]           8,194\n",
            "================================================================\n",
            "Total params: 57,012,034\n",
            "Trainable params: 57,012,034\n",
            "Non-trainable params: 0\n",
            "----------------------------------------------------------------\n",
            "Input size (MB): 0.57\n",
            "Forward/backward pass size (MB): 8.37\n",
            "Params size (MB): 217.48\n",
            "Estimated Total Size (MB): 226.43\n",
            "----------------------------------------------------------------\n"
          ]
        }
      ]
    },
    {
      "cell_type": "code",
      "source": [
        "class_names"
      ],
      "metadata": {
        "colab": {
          "base_uri": "https://localhost:8080/"
        },
        "outputId": "e0d136d7-6fa2-4a8b-ec08-b6225300e565",
        "id": "37A0yA73Qyuo"
      },
      "execution_count": null,
      "outputs": [
        {
          "output_type": "execute_result",
          "data": {
            "text/plain": [
              "['no person in pool', 'person in pool']"
            ]
          },
          "metadata": {},
          "execution_count": 13
        }
      ]
    },
    {
      "cell_type": "code",
      "source": [
        "dataset_sizes #25 pics of people in pool, 25 pics of no people in pool "
      ],
      "metadata": {
        "colab": {
          "base_uri": "https://localhost:8080/"
        },
        "outputId": "e8e9678a-7595-4d7c-cf33-420573a74a88",
        "id": "o-V0ud6kQyup"
      },
      "execution_count": null,
      "outputs": [
        {
          "output_type": "execute_result",
          "data": {
            "text/plain": [
              "{'train': 40, 'valid': 10}"
            ]
          },
          "metadata": {},
          "execution_count": 14
        }
      ]
    },
    {
      "cell_type": "code",
      "source": [
        "criterion = nn.CrossEntropyLoss()\n",
        "optimizer = optim.SGD(alexnet.parameters(), lr=0.001, momentum=0.9)\n",
        "\n",
        "# Train the AlexNet model\n",
        "alexnet.train()\n",
        "\n",
        "num_epochs = 20\n",
        "\n",
        "for epoch in range(num_epochs):\n",
        "    print(epoch, \" of \", num_epochs - 1)\n",
        "    print('-' * 10)\n",
        "\n",
        "    running_corrects = 0\n",
        "\n",
        "    for inputs, labels in dataloaders[\"train\"]:\n",
        "        inputs = inputs.to(device)\n",
        "        labels = labels.to(device)\n",
        "\n",
        "        optimizer.zero_grad()\n",
        "\n",
        "        outputs = alexnet(inputs)\n",
        "        preds = torch.max(outputs, 1)[1]\n",
        "        loss = criterion(outputs, labels)\n",
        "\n",
        "        loss.backward()\n",
        "        optimizer.step()\n",
        "\n",
        "        running_corrects += torch.sum(preds == labels.data)\n",
        "\n",
        "    print('Train Acc: {:.4f}'.format(running_corrects / dataset_sizes[\"train\"]))\n",
        "\n",
        "\n",
        "\n",
        "\n",
        "    # Evaluate the AlexNet model on Validation Data\n",
        "    alexnet.eval()\n",
        "\n",
        "    running_corrects = 0\n",
        "\n",
        "    for inputs, labels in dataloaders[\"valid\"]:\n",
        "        inputs = inputs.to(device)\n",
        "        labels = labels.to(device)\n",
        "\n",
        "        outputs = alexnet(inputs)\n",
        "        preds = torch.max(outputs, 1)[1]\n",
        "\n",
        "        running_corrects += torch.sum(preds == labels.data)\n",
        "\n",
        "    acc_valid = running_corrects / dataset_sizes[\"valid\"]\n",
        "    print('Valid Acc: {:.4f}'.format(acc_valid))\n",
        "    if acc_valid > 0.99:\n",
        "        print(\"Done!\")\n",
        "        break\n",
        "\n",
        "\n",
        "\n",
        "print('Training complete')"
      ],
      "metadata": {
        "id": "BsdI_Z1vM7VM",
        "colab": {
          "base_uri": "https://localhost:8080/"
        },
        "outputId": "151b318c-04c6-4909-9a69-c6880dd4c537"
      },
      "execution_count": null,
      "outputs": [
        {
          "output_type": "stream",
          "name": "stdout",
          "text": [
            "0  of  19\n",
            "----------\n",
            "Train Acc: 0.4500\n",
            "Valid Acc: 0.8000\n",
            "1  of  19\n",
            "----------\n",
            "Train Acc: 0.6500\n",
            "Valid Acc: 0.9000\n",
            "2  of  19\n",
            "----------\n",
            "Train Acc: 0.8000\n",
            "Valid Acc: 0.7000\n",
            "3  of  19\n",
            "----------\n",
            "Train Acc: 0.9500\n",
            "Valid Acc: 0.7000\n",
            "4  of  19\n",
            "----------\n",
            "Train Acc: 0.9250\n",
            "Valid Acc: 0.7000\n",
            "5  of  19\n",
            "----------\n",
            "Train Acc: 0.9500\n",
            "Valid Acc: 0.7000\n",
            "6  of  19\n",
            "----------\n",
            "Train Acc: 0.9250\n",
            "Valid Acc: 0.7000\n",
            "7  of  19\n",
            "----------\n",
            "Train Acc: 0.9750\n",
            "Valid Acc: 0.8000\n",
            "8  of  19\n",
            "----------\n",
            "Train Acc: 0.9250\n",
            "Valid Acc: 0.9000\n",
            "9  of  19\n",
            "----------\n",
            "Train Acc: 1.0000\n",
            "Valid Acc: 0.9000\n",
            "10  of  19\n",
            "----------\n",
            "Train Acc: 0.9750\n",
            "Valid Acc: 0.9000\n",
            "11  of  19\n",
            "----------\n",
            "Train Acc: 0.9750\n",
            "Valid Acc: 0.9000\n",
            "12  of  19\n",
            "----------\n",
            "Train Acc: 0.9750\n",
            "Valid Acc: 0.9000\n",
            "13  of  19\n",
            "----------\n",
            "Train Acc: 0.9250\n",
            "Valid Acc: 0.8000\n",
            "14  of  19\n",
            "----------\n",
            "Train Acc: 0.9500\n",
            "Valid Acc: 0.8000\n",
            "15  of  19\n",
            "----------\n",
            "Train Acc: 0.9750\n",
            "Valid Acc: 0.8000\n",
            "16  of  19\n",
            "----------\n",
            "Train Acc: 1.0000\n",
            "Valid Acc: 0.8000\n",
            "17  of  19\n",
            "----------\n",
            "Train Acc: 0.9500\n",
            "Valid Acc: 0.8000\n",
            "18  of  19\n",
            "----------\n",
            "Train Acc: 1.0000\n",
            "Valid Acc: 0.8000\n",
            "19  of  19\n",
            "----------\n",
            "Train Acc: 0.9750\n",
            "Valid Acc: 0.9000\n",
            "Training complete\n"
          ]
        }
      ]
    },
    {
      "cell_type": "code",
      "source": [
        "model_path = '/content/gdrive/MyDrive/alexnet_classification_pool.pth'"
      ],
      "metadata": {
        "id": "zmhjefa5QdSu"
      },
      "execution_count": null,
      "outputs": []
    },
    {
      "cell_type": "code",
      "source": [
        "# Save the trained model\n",
        "torch.save(alexnet.state_dict(), model_path)"
      ],
      "metadata": {
        "id": "dBlJWh3QQyur"
      },
      "execution_count": null,
      "outputs": []
    },
    {
      "cell_type": "code",
      "source": [
        "import requests\n",
        "from PIL import Image\n",
        "from io import BytesIO\n",
        "\n",
        "# 1. Load the trained AlexNet model\n",
        "def load_model(model_path):\n",
        "    model = models.alexnet()\n",
        "    num_ftrs = model.classifier[6].in_features\n",
        "    model.classifier[6] = nn.Linear(num_ftrs, len(class_names))\n",
        "    model.load_state_dict(torch.load(model_path))\n",
        "    model.eval()\n",
        "    return model.to(device)\n",
        "\n",
        "# 2. Define a function to load an image from a URL and preprocess it\n",
        "def preprocess_image(url, transform):\n",
        "    response = requests.get(url)\n",
        "    img = Image.open(BytesIO(response.content)).convert(\"RGB\")\n",
        "    img_tensor = transform(img)\n",
        "    return img_tensor.unsqueeze(0).to(device)\n",
        "\n",
        "# 3. Perform inference using the loaded model\n",
        "def predict_image_url(url, model):\n",
        "    img_tensor = preprocess_image(url, data_transforms['valid'])\n",
        "    output = model(img_tensor)\n",
        "    _, pred = torch.max(output, 1)\n",
        "    return class_names[pred]"
      ],
      "metadata": {
        "id": "6owtKjwZQyus"
      },
      "execution_count": null,
      "outputs": []
    },
    {
      "cell_type": "code",
      "source": [
        "trained_model = load_model(model_path)"
      ],
      "metadata": {
        "id": "eO6gV33MiUeF"
      },
      "execution_count": null,
      "outputs": []
    },
    {
      "cell_type": "code",
      "source": [
        "image_url = 'https://www.kxan.com/wp-content/uploads/sites/40/2022/04/1040x585-2022-0401-what-you-need-to-host-a-pool-party-62cc1b.jpg'"
      ],
      "metadata": {
        "id": "HxRmKBwQQyut"
      },
      "execution_count": null,
      "outputs": []
    },
    {
      "cell_type": "code",
      "source": [
        "\n",
        "prediction = predict_image_url(image_url, trained_model)"
      ],
      "metadata": {
        "id": "8fTxsPSoSi6S"
      },
      "execution_count": null,
      "outputs": []
    },
    {
      "cell_type": "code",
      "source": [
        "print(\"The predicted class for the input image is:\", prediction)"
      ],
      "metadata": {
        "colab": {
          "base_uri": "https://localhost:8080/"
        },
        "id": "EwBsL__ySiKa",
        "outputId": "ba791f64-cf6f-4398-a3d0-520dec4c4d49"
      },
      "execution_count": null,
      "outputs": [
        {
          "output_type": "stream",
          "name": "stdout",
          "text": [
            "The predicted class for the input image is: person in pool\n"
          ]
        }
      ]
    }
  ]
}